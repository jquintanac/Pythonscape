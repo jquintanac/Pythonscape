{
 "cells": [
  {
   "cell_type": "markdown",
   "id": "f05eb66b",
   "metadata": {},
   "source": [
    "# The hacker's den - A escape based on data analysis \n"
   ]
  },
  {
   "cell_type": "markdown",
   "id": "c803fb1f",
   "metadata": {},
   "source": [
    "![](https://github.com/jquintanac/Pythonscape/blob/main/imagenes/fronpage.jpg?raw=true)"
   ]
  },
  {
   "cell_type": "markdown",
   "id": "8b2ca424",
   "metadata": {},
   "source": [
    "Welcome aboard, buddy! We are so close to catch a hacker we are chasing since several months ago with no clue, but this situation has changed! Thanks to the *Codes City Police Department* efford, we have the hacker adress and our buddies are on the way. But we need your help! As a computer expert, your scope knowledge will help to catch the hacker!\n",
    "\n",
    "Use this notebook to write all you need to solve the case. You will find some hints through the game in case you need them. You can count the time you needed to catch the hacker. Write it with your credentials to save in our database and try to be the number one!"
   ]
  },
  {
   "cell_type": "markdown",
   "id": "8f8f23db",
   "metadata": {},
   "source": [
    "**Your credentials**\n",
    "\n",
    "*You can write your name, age, origin, your knowledge in data analysis, your job... Just let us know you!* 😀"
   ]
  },
  {
   "cell_type": "code",
   "execution_count": null,
   "id": "4a753c18",
   "metadata": {},
   "outputs": [],
   "source": []
  },
  {
   "cell_type": "markdown",
   "id": "b2dd3d77",
   "metadata": {},
   "source": [
    "**You better work, buddy!**\n",
    "\n",
    "*Write right down all you need to complete the game. Use # to coment whatever you can, for improvement!*"
   ]
  },
  {
   "cell_type": "code",
   "execution_count": null,
   "id": "8b8b1d8d",
   "metadata": {},
   "outputs": [],
   "source": []
  },
  {
   "cell_type": "code",
   "execution_count": null,
   "id": "2d218253",
   "metadata": {},
   "outputs": [],
   "source": []
  },
  {
   "cell_type": "code",
   "execution_count": null,
   "id": "5985ba38",
   "metadata": {},
   "outputs": [],
   "source": []
  },
  {
   "cell_type": "code",
   "execution_count": null,
   "id": "da7100fb",
   "metadata": {},
   "outputs": [],
   "source": []
  },
  {
   "cell_type": "code",
   "execution_count": null,
   "id": "3db0565a",
   "metadata": {},
   "outputs": [],
   "source": []
  }
 ],
 "metadata": {
  "kernelspec": {
   "display_name": "Clase",
   "language": "python",
   "name": "clase"
  },
  "language_info": {
   "codemirror_mode": {
    "name": "ipython",
    "version": 3
   },
   "file_extension": ".py",
   "mimetype": "text/x-python",
   "name": "python",
   "nbconvert_exporter": "python",
   "pygments_lexer": "ipython3",
   "version": "3.8.13"
  }
 },
 "nbformat": 4,
 "nbformat_minor": 5
}
