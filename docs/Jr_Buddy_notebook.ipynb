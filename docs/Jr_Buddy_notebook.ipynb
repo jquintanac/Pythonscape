{
 "cells": [
  {
   "cell_type": "markdown",
   "id": "f05eb66b",
   "metadata": {},
   "source": [
    "# The hacker's den - A escape based on data analysis \n"
   ]
  },
  {
   "cell_type": "markdown",
   "id": "c803fb1f",
   "metadata": {},
   "source": [
    "![](https://github.com/jquintanac/Pythonscape/blob/main/imagenes/fronpage.jpg?raw=true)"
   ]
  },
  {
   "cell_type": "markdown",
   "id": "8b2ca424",
   "metadata": {},
   "source": [
    "Welcome aboard, buddy! We are so close to catch a hacker we are chasing since several months ago with no clue, but this situation has changed! Thanks to the *Codes City Police Department* efford, we have the hacker adress and our buddies are on the way. But we need your help! As a computer expert, your scope knowledge will help to catch the hacker!\n",
    "\n",
    "Use this notebook to write all you need to solve the case. You will find some hints through the game in case you need them. You can count the time you needed to catch the hacker. Write it with your credentials to save in our database and try to be the number one!"
   ]
  },
  {
   "cell_type": "markdown",
   "id": "8f8f23db",
   "metadata": {},
   "source": [
    "**Your credentials**\n",
    "\n",
    "*You can write your name, age, origin, your knowledge in data analysis, your job... Just let us know you!* 😀"
   ]
  },
  {
   "cell_type": "code",
   "execution_count": null,
   "id": "4a753c18",
   "metadata": {},
   "outputs": [],
   "source": []
  },
  {
   "cell_type": "markdown",
   "id": "b2dd3d77",
   "metadata": {},
   "source": [
    "**You better work, buddy!**\n",
    "\n",
    "*Write right down all you need to complete the game. Use # to coment whatever you can, for improvement! This notebook has a simple guides that can help you to complete the game although you are not so familiarized with Data analysis.*"
   ]
  },
  {
   "cell_type": "markdown",
   "id": "4424d744",
   "metadata": {},
   "source": [
    "### START"
   ]
  },
  {
   "cell_type": "markdown",
   "id": "8b2047dc",
   "metadata": {},
   "source": [
    "You have just arrived to the office to start working. You switch on your computer. You need your ID and your password to access to the Police service. Check the documentation to find the solution."
   ]
  },
  {
   "cell_type": "markdown",
   "id": "24b1b907",
   "metadata": {},
   "source": [
    "***ID:***\n",
    "\n",
    "***Pass:***"
   ]
  },
  {
   "cell_type": "markdown",
   "id": "fcd604a3",
   "metadata": {},
   "source": [
    "Once you have chosen your buddy, you can navegate through the desktop but every morning you usually check the mailbox. Try to find your last e-mail in your inbox."
   ]
  },
  {
   "cell_type": "code",
   "execution_count": null,
   "id": "1e8af471",
   "metadata": {},
   "outputs": [],
   "source": [
    "#download the mail as csv and read it writting the directory in the parenthesis\n",
    "\n",
    "import pandas as pd\n",
    "\n",
    "inbox = pd.read_csv('mails.csv', delimiter=';')\n",
    "\n",
    "inbox"
   ]
  },
  {
   "cell_type": "code",
   "execution_count": null,
   "id": "1c2a89db",
   "metadata": {},
   "outputs": [],
   "source": [
    "#With this line we can order by Date from newest to latest\n",
    "\n",
    "inbox.sort_values('Date', ascending=False)"
   ]
  },
  {
   "cell_type": "code",
   "execution_count": null,
   "id": "96ea4f1f",
   "metadata": {},
   "outputs": [],
   "source": [
    "#With this option, you can read the complete message. Register the sender name\n",
    "\n",
    "pd.set_option('display.max_colwidth', None)\n",
    "\n",
    "inbox.sort_values('Date', ascending=False).head()"
   ]
  },
  {
   "cell_type": "markdown",
   "id": "85a1b29c",
   "metadata": {},
   "source": [
    "You will need to contact with your partner, so you should look for her number in your agenda to call her by chat."
   ]
  },
  {
   "cell_type": "code",
   "execution_count": null,
   "id": "495fa4bc",
   "metadata": {},
   "outputs": [],
   "source": [
    "# copy the agenda inside the dict. keys and values have to be between a pair of {}\n",
    "\n",
    "dict={}\n"
   ]
  },
  {
   "cell_type": "code",
   "execution_count": null,
   "id": "a986d463",
   "metadata": {},
   "outputs": [],
   "source": [
    "#We will look for the number of our partner navigating through the dictionary. Put it where 'name'.\n",
    "\n",
    "for k,v in dict.items():\n",
    "    if k == 'name':\n",
    "        print(v)\n",
    "\n",
    "# This way we look for the match between the name (key, k) and the dictionary (dict), and it returns to us the value (v)."
   ]
  },
  {
   "cell_type": "markdown",
   "id": "f71774f1",
   "metadata": {},
   "source": [
    "Try to contact with your partner introducing the phone number in the chat menú. Follow her instructions and check what you want to check typing it in the input."
   ]
  },
  {
   "cell_type": "code",
   "execution_count": null,
   "id": "eb30116f",
   "metadata": {},
   "outputs": [],
   "source": [
    "# You will find a few numbers disposed as matrixes. Try to write them as the example. \n",
    "\n",
    "example= [\n",
    "         [1,0,4,5],\n",
    "         [2,1,4,1]\n",
    "         ]\n",
    "\n",
    "#this is an example of a matrix. Now, try to do it by yourself!\n",
    "\n",
    "matrix1=[]\n",
    "\n",
    "matrix2=[]\n"
   ]
  },
  {
   "cell_type": "code",
   "execution_count": null,
   "id": "7f9ced96",
   "metadata": {},
   "outputs": [],
   "source": [
    "#Try to operate between them. You will need .dot.\n",
    "\n",
    "import numpy as np\n",
    "\n",
    "np.dot(matrix1,matrix2)"
   ]
  },
  {
   "cell_type": "markdown",
   "id": "0c818899",
   "metadata": {},
   "source": [
    "You should get your code to access to the hacker's house. Good job! But now we have a problem. The alarm has jumped and we have to stop it. CPU is giving us a message to decode. Try to find the secret message inside it."
   ]
  },
  {
   "cell_type": "code",
   "execution_count": null,
   "id": "e29174a1",
   "metadata": {},
   "outputs": [],
   "source": [
    "# copy the code here between ' ''\n",
    "\n",
    "code = ''"
   ]
  },
  {
   "cell_type": "code",
   "execution_count": null,
   "id": "cefce866",
   "metadata": {},
   "outputs": [],
   "source": [
    "#Try to guess the pattern in the code. If you are not able to, follow the instructions in the next step.\n",
    "\n"
   ]
  },
  {
   "cell_type": "code",
   "execution_count": null,
   "id": "91b8c32b",
   "metadata": {},
   "outputs": [],
   "source": [
    "#We can create a new dictionary with the letters (keys) in the code with a loop and as values we can count them\n",
    "\n",
    "newdict={}\n",
    "for i in code:\n",
    "    code[i]=code.count(i)\n",
    "newdict"
   ]
  },
  {
   "cell_type": "code",
   "execution_count": null,
   "id": "3db0565a",
   "metadata": {},
   "outputs": [],
   "source": [
    "# If we sort the dict, we will found the solution\n",
    "\n",
    "sorted(newdict, key=newdict.get)"
   ]
  },
  {
   "cell_type": "markdown",
   "id": "8b2d2769",
   "metadata": {},
   "source": [
    "Now that we have access to the hacker's computer, we see he/she was waiting for us and have a message in the screen. We need to pass his/her test to get the access, so let's work!"
   ]
  },
  {
   "cell_type": "code",
   "execution_count": null,
   "id": "ca48b55f",
   "metadata": {},
   "outputs": [],
   "source": [
    "#Load the data by downloading 'scatter.csv'\n",
    "\n",
    "scatt = pd.read_csv('scatter.csv')\n",
    "\n",
    "scatt"
   ]
  },
  {
   "cell_type": "code",
   "execution_count": null,
   "id": "d8d951e1",
   "metadata": {},
   "outputs": [],
   "source": [
    "#To make a scatter plot, you will need a X axis and a Y axis. For example:\n",
    "\n",
    "import matplotlib.pyplot as plt\n",
    "\n",
    "x= [0,1,2,3,4]\n",
    "\n",
    "y=[0,1,2,3,4]\n",
    "\n",
    "plt.scatter(x, y, color='blue')\n",
    "plt.ylim(0,5)\n",
    "plt.xlim(0,5)\n",
    "plt.show();"
   ]
  },
  {
   "cell_type": "code",
   "execution_count": null,
   "id": "17664073",
   "metadata": {},
   "outputs": [],
   "source": [
    "# You have ten Xs and ten Ys. There are a lot of combinations, right? With a loop it would be easier. Agroup axes and loop.\n",
    "\n",
    "allx=[scatt.x1, scatt.x2, scatt.x3, scatt.x4, scatt.x5, scatt.x6, scatt.x7, scatt.x8, scatt.x9, scatt.x10]\n",
    "ally=[scatt.y1,scatt.y2,scatt.y3,scatt.y4,scatt.y5,scatt.y6,scatt.y7,scatt.y8,scatt.y9,scatt.y10]"
   ]
  },
  {
   "cell_type": "code",
   "execution_count": null,
   "id": "8714f86f",
   "metadata": {},
   "outputs": [],
   "source": [
    "for i in allx:\n",
    "    for j in ally:\n",
    "        plt.scatter(i, j, color='blue')\n",
    "        plt.ylim(0,5)\n",
    "        plt.xlim(0,5)\n",
    "        plt.show();\n",
    "\n",
    "#Do you recognize something in particular in any scatter plot?"
   ]
  },
  {
   "cell_type": "markdown",
   "id": "ea6c6755",
   "metadata": {},
   "source": [
    "It seems that the hacker has been surfing the Internet and we have a list of the latest urls he/she has visited. Sara found a note with some Xpath, probably from those links. Let's web scrapping!\n"
   ]
  },
  {
   "cell_type": "code",
   "execution_count": null,
   "id": "80fb24d0",
   "metadata": {},
   "outputs": [],
   "source": [
    "from selenium import webdriver\n",
    "from webdriver_manager.chrome import ChromeDriverManager\n",
    "from selenium.webdriver.common.by import By \n",
    "import time\n",
    "\n",
    "url=''           # write the url you want to scrap between the ''\n",
    "\n",
    "xpath=''         # write the xpath you want to scrap between the ''\n",
    "\n",
    "PATH=ChromeDriverManager().install()   # driver install (not need to touch it)\n",
    "\n",
    "driver=webdriver.Chrome(PATH)         # open chrome (not need to touch it)\n",
    "\n",
    "driver.get(url)     # open the url (not need to touch it)\n",
    "\n",
    "time.sleep(2)    # wait two seconds (not need to touch it)\n",
    "\n",
    "word= driver.find_element(By.XPATH, xpath).text # find the xpath in the url (not need to touch it)\n",
    "\n",
    "word   #If the url and the xpath match, this variable returns a word (not need to touch it)"
   ]
  },
  {
   "cell_type": "code",
   "execution_count": null,
   "id": "a9ff6426",
   "metadata": {},
   "outputs": [],
   "source": [
    "# Take a FIRST look about the words you have got and try to guess the code to pass.\n",
    "\n"
   ]
  },
  {
   "cell_type": "markdown",
   "id": "ddbc56f6",
   "metadata": {},
   "source": [
    "Now we have access to the hacker's computer, we have discovered he is travelling to escape from us! We have to catch him and we need to track the flights. Take a look of the boarding pass and go to the desktop to the flight tracker in programs. Be sure you know the flight tracker password before leaving the chat!"
   ]
  },
  {
   "cell_type": "code",
   "execution_count": null,
   "id": "b00b69be",
   "metadata": {},
   "outputs": [],
   "source": [
    "# You will need the nine tracked cities to work in a SQL platform. If you don't have one, you can do it navigating through the tables.\n",
    "\n",
    "paris = pd.read_csv('Paris.csv')\n",
    "tokyo = pd.read_csv('Tokyo.csv')\n",
    "milan = pd.read_csv('Milan.csv')\n",
    "madrid = pd.read_csv('Madrid.csv')\n",
    "elcairo = pd.read_csv('El cairo.csv')\n",
    "codes = pd.read_csv('Codes.csv')\n",
    "brussels = pd.read_csv('Brussels.csv')\n",
    "barcelona = pd.read_csv('Barcelona.csv')\n",
    "amsterdam = pd.read_csv('Amsterdam.csv')\n"
   ]
  },
  {
   "cell_type": "markdown",
   "id": "11ec71a0",
   "metadata": {},
   "source": [
    "Don't forget three conditions to find the hacker:\n",
    "\n",
    "• The hacker will take all the flights he can to mislead us, starting in Codes City.\n",
    "\n",
    "• He will never comeback to a city he has already been during his travelling.\n",
    "\n",
    "• The waiting time between two flights has to be a maximum of one hour but never at the same time as the arrival time. He doesn't want to stay too much time in the airport."
   ]
  },
  {
   "cell_type": "code",
   "execution_count": null,
   "id": "5768bf04",
   "metadata": {},
   "outputs": [],
   "source": [
    "#You will need to write all the codes for each flight he take in order.\n",
    "\n"
   ]
  },
  {
   "cell_type": "markdown",
   "id": "14893dc1",
   "metadata": {},
   "source": [
    "### Congratulations! You did it! You caught him!\n",
    "\n",
    "##### Don't forget to note the time you needed to complete the case and upload this file to get into the ranking."
   ]
  },
  {
   "cell_type": "markdown",
   "id": "65a955ee",
   "metadata": {},
   "source": [
    "***Thank you for participating and I hope you had fun!***"
   ]
  }
 ],
 "metadata": {
  "kernelspec": {
   "display_name": "Clase",
   "language": "python",
   "name": "clase"
  },
  "language_info": {
   "codemirror_mode": {
    "name": "ipython",
    "version": 3
   },
   "file_extension": ".py",
   "mimetype": "text/x-python",
   "name": "python",
   "nbconvert_exporter": "python",
   "pygments_lexer": "ipython3",
   "version": "3.8.13"
  }
 },
 "nbformat": 4,
 "nbformat_minor": 5
}
