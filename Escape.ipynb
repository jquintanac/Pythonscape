{
 "cells": [
  {
   "cell_type": "markdown",
   "id": "19bbd18c",
   "metadata": {},
   "source": [
    "Dibujar scatter plot con letras en el, intentar complicarlo con muchos puntos que se separen por colores y a primera vista no parezca que son letras pero se pueda separar y ver."
   ]
  },
  {
   "cell_type": "code",
   "execution_count": null,
   "id": "6b7c9f09",
   "metadata": {},
   "outputs": [],
   "source": []
  },
  {
   "cell_type": "markdown",
   "id": "a5f93499",
   "metadata": {},
   "source": [
    "Tabla de datos con nulos, cuyos indices de filas y columnas son numeros que se deben multiplicar donde esten los nulos."
   ]
  },
  {
   "cell_type": "code",
   "execution_count": null,
   "id": "e2ee13e7",
   "metadata": {},
   "outputs": [],
   "source": []
  },
  {
   "cell_type": "markdown",
   "id": "5682d0e7",
   "metadata": {},
   "source": [
    "Scrapear una/s web/s donde está el código dentro de una caja de cajas, de manera que no se vea a simple vista lo que se necesita pero haya que escrapear para cogerlo. Como puede que se vea simplemente con inspeccionar, poner varias palabras con el mismo embebido y tener que hacerlo en loop, para sacar una frase (un posible enigma, acertijo)"
   ]
  },
  {
   "cell_type": "code",
   "execution_count": null,
   "id": "cd12a171",
   "metadata": {},
   "outputs": [],
   "source": []
  },
  {
   "cell_type": "markdown",
   "id": "30ce76a0",
   "metadata": {},
   "source": [
    "Los candados serán funciones definidas que solo dna la informacion si se introduce el codigo correcto. El codigo se sacará con otros acertijos o enigmas de programacion o con imagenes"
   ]
  },
  {
   "cell_type": "code",
   "execution_count": null,
   "id": "2539178d",
   "metadata": {},
   "outputs": [],
   "source": []
  },
  {
   "cell_type": "markdown",
   "id": "c2b67199",
   "metadata": {},
   "source": [
    "Mensaje oculto con letras y numeros repetidos donde tendras que encontrar las letras y appendearlas a una lista para formar un mensaje o palabra. Si es demasiado facil, puede ser sin ordenar para complicarlo un poco mas, separando las palabras, o teniendo que ordenarlas de alguna manera.\n",
    "\n",
    "Seria rollo: aaaaaaaaaaaaaaaahbbbbbbbbbbbbbbbboñññññññññññññññññññññññññlmmmmmmmmma"
   ]
  },
  {
   "cell_type": "code",
   "execution_count": null,
   "id": "8db14682",
   "metadata": {},
   "outputs": [],
   "source": []
  },
  {
   "cell_type": "markdown",
   "id": "ea07e0de",
   "metadata": {},
   "source": [
    "Transformar matrices en un vector que sea un codigo, mediante alguna operacion entre matrices,"
   ]
  },
  {
   "cell_type": "code",
   "execution_count": null,
   "id": "2e224c5d",
   "metadata": {},
   "outputs": [],
   "source": []
  },
  {
   "cell_type": "markdown",
   "id": "f2766af1",
   "metadata": {},
   "source": [
    "Hacer todo en una libreria para que no se vean las cosas, variables globales y las funciones de las que tirar para que no se vea nada"
   ]
  },
  {
   "cell_type": "code",
   "execution_count": null,
   "id": "6e03681b",
   "metadata": {},
   "outputs": [],
   "source": []
  },
  {
   "cell_type": "markdown",
   "id": "504a754b",
   "metadata": {},
   "source": [
    "La información policial estará toda en SQL para consulta, teniendo que usar comandos simples como select o algun join o group by para cierta información relevante. El resto de información, más enfocada a lo que se vaya descubriendo en el despacho y no algo que pueda tener la policia o internet, estará en SQL."
   ]
  },
  {
   "cell_type": "code",
   "execution_count": null,
   "id": "505d57dd",
   "metadata": {},
   "outputs": [],
   "source": []
  },
  {
   "cell_type": "markdown",
   "id": "29816130",
   "metadata": {},
   "source": [
    "Puede que en power bi alguna lista de sospechosos, cierta información con mapas, información que se obtenga directamente del juego o una bbdd que contenga la información para entender la informacion. Se puede hacer un trazo de viajes para codigos, rutas, pasaportes, etc"
   ]
  },
  {
   "cell_type": "code",
   "execution_count": null,
   "id": "c4155ff0",
   "metadata": {},
   "outputs": [],
   "source": []
  },
  {
   "cell_type": "markdown",
   "id": "19560c14",
   "metadata": {},
   "source": []
  },
  {
   "cell_type": "code",
   "execution_count": null,
   "id": "3f7a69a0",
   "metadata": {},
   "outputs": [],
   "source": []
  },
  {
   "cell_type": "markdown",
   "id": "b5366c14",
   "metadata": {},
   "source": [
    "### Historia\n",
    "Puede ser un trabajo en equipo con otra investigadora que está en la guarida de un hacker. Ella nos da información sobre lo que ve y nosotros trabajamos en remoto con su informacion y el ordenador del hacker."
   ]
  },
  {
   "cell_type": "code",
   "execution_count": null,
   "id": "71763f35",
   "metadata": {},
   "outputs": [],
   "source": []
  },
  {
   "cell_type": "code",
   "execution_count": null,
   "id": "60fce07f",
   "metadata": {},
   "outputs": [],
   "source": []
  },
  {
   "cell_type": "code",
   "execution_count": null,
   "id": "c1c0c1a3",
   "metadata": {},
   "outputs": [],
   "source": []
  },
  {
   "cell_type": "code",
   "execution_count": null,
   "id": "5328a241",
   "metadata": {},
   "outputs": [],
   "source": []
  }
 ],
 "metadata": {
  "kernelspec": {
   "display_name": "Clase",
   "language": "python",
   "name": "clase"
  },
  "language_info": {
   "codemirror_mode": {
    "name": "ipython",
    "version": 3
   },
   "file_extension": ".py",
   "mimetype": "text/x-python",
   "name": "python",
   "nbconvert_exporter": "python",
   "pygments_lexer": "ipython3",
   "version": "3.8.13"
  }
 },
 "nbformat": 4,
 "nbformat_minor": 5
}
